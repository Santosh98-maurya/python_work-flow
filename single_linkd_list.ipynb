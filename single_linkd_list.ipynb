{
 "cells": [
  {
   "cell_type": "code",
   "execution_count": 1,
   "metadata": {},
   "outputs": [
    {
     "name": "stdout",
     "output_type": "stream",
     "text": [
      "5  \n",
      "10  \n",
      "15  \n",
      "17  \n",
      "16  \n"
     ]
    },
    {
     "data": {
      "text/plain": [
       "5"
      ]
     },
     "execution_count": 1,
     "metadata": {},
     "output_type": "execute_result"
    }
   ],
   "source": [
    "class Node:\n",
    "    def __init__(self, data):\n",
    "        self.item = data\n",
    "        self.ref = None\n",
    "        \n",
    "class LinkedList:\n",
    "    def __init__(self):\n",
    "        self.start_node = None\n",
    "        \n",
    "    def traverse_list(self):\n",
    "        if self.start_node is None:\n",
    "            print(\"List has no element\")\n",
    "            return\n",
    "        else:\n",
    "            n = self.start_node\n",
    "            while n is not None:\n",
    "                print(n.item , \" \")\n",
    "                n = n.ref\n",
    "                \n",
    "    def insert_at_end(self, data):\n",
    "        new_node = Node(data)\n",
    "        if self.start_node is None:\n",
    "            self.start_node = new_node\n",
    "            return\n",
    "        n = self.start_node\n",
    "        while n.ref is not None:\n",
    "            n= n.ref\n",
    "        n.ref = new_node;\n",
    "        \n",
    "    def get_count(self):\n",
    "        if self.start_node is None:\n",
    "            return 0;\n",
    "        n = self.start_node\n",
    "        count = 0;\n",
    "        while n is not None:\n",
    "            count = count + 1\n",
    "            n = n.ref\n",
    "        return count\n",
    "    \n",
    "new_linked_list = LinkedList()\n",
    "new_linked_list.insert_at_end(5)\n",
    "new_linked_list.insert_at_end(10)\n",
    "new_linked_list.insert_at_end(15)\n",
    "new_linked_list.insert_at_end(17)\n",
    "new_linked_list.insert_at_end(16)\n",
    "new_linked_list.traverse_list()\n",
    "new_linked_list.get_count()"
   ]
  },
  {
   "cell_type": "code",
   "execution_count": null,
   "metadata": {},
   "outputs": [],
   "source": []
  }
 ],
 "metadata": {
  "kernelspec": {
   "display_name": "Python 3",
   "language": "python",
   "name": "python3"
  },
  "language_info": {
   "codemirror_mode": {
    "name": "ipython",
    "version": 3
   },
   "file_extension": ".py",
   "mimetype": "text/x-python",
   "name": "python",
   "nbconvert_exporter": "python",
   "pygments_lexer": "ipython3",
   "version": "3.7.3"
  }
 },
 "nbformat": 4,
 "nbformat_minor": 2
}
